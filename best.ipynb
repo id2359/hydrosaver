{
 "metadata": {
  "name": "",
  "signature": "sha256:269b2f7910c72dcfc0ceea8fa74858317a2335a9b7bff4c07778545fecda3e3d"
 },
 "nbformat": 3,
 "nbformat_minor": 0,
 "worksheets": [
  {
   "cells": [
    {
     "cell_type": "code",
     "collapsed": false,
     "input": [
      "import pandas as pd\n",
      "import numpy as np\n",
      "from sklearn.preprocessing.imputation import Imputer\n",
      "from sklearn.model_selection import train_test_split\n",
      "from sklearn.pipeline import make_pipeline\n",
      "from sklearn.preprocessing import StandardScaler\n",
      "from sklearn.metrics import mean_squared_error, mean_absolute_error\n",
      "from sklearn.ensemble import RandomForestRegressor\n",
      "from sklearn.model_selection import GridSearchCV\n",
      "\n",
      "RUN_NAME = \"r1\"\n",
      "TARGET_COLUMN = 'target'\n",
      "COLUMNS_TO_EXCLUDE = ['timestamp',\n",
      "                      'DIC88023.PV',\n",
      "                      'II88151.PV',\n",
      "                      'II88152.PV',\n",
      "                      'FV88156.PV',\n",
      "                      'FV88043.PV',\n",
      "                      'FV88044.PV']\n",
      "\n",
      "\n",
      "def to_float(df):\n",
      "    return df.apply(pd.to_numeric, errors='coerce')\n",
      "\n",
      "def fillna(df):\n",
      "    return df.fillna(df.mean())\n",
      "\n",
      "def load_csv(filename):\n",
      "    return fillna(to_float(pd.read_csv(filename, header=0)))\n",
      "\n",
      "def ttsplit(x,y):\n",
      "    # split into a training and testing set\n",
      "    x_train, x_test, y_train, y_test = train_test_split(x,\n",
      "                                                        y,\n",
      "                                                        test_size=0.50,\n",
      "                                                        random_state=42)\n",
      "    return x_train, x_test, y_train, y_test\n"
     ],
     "language": "python",
     "metadata": {},
     "outputs": [],
     "prompt_number": 3
    },
    {
     "cell_type": "code",
     "collapsed": false,
     "input": [
      "def get_features(df):\n",
      "    #return df[COLUMNS_TO_INCLUDE].copy()\n",
      "    return df[df.columns.difference([TARGET_COLUMN]+COLUMNS_TO_EXCLUDE)].copy()\n",
      "\n",
      "def get_target(df):\n",
      "    return df[[TARGET_COLUMN]]"
     ],
     "language": "python",
     "metadata": {},
     "outputs": [],
     "prompt_number": 4
    },
    {
     "cell_type": "code",
     "collapsed": false,
     "input": [
      "TRAIN_CSV = '/home/frug/projects/hydrosaver/train.csv'"
     ],
     "language": "python",
     "metadata": {},
     "outputs": [],
     "prompt_number": 5
    },
    {
     "cell_type": "code",
     "collapsed": false,
     "input": [
      "TEST_CSV = '/home/frug/projects/hydrosaver/test.csv'"
     ],
     "language": "python",
     "metadata": {},
     "outputs": [],
     "prompt_number": 6
    },
    {
     "cell_type": "code",
     "collapsed": false,
     "input": [
      "train = load_csv(TRAIN_CSV)\n"
     ],
     "language": "python",
     "metadata": {},
     "outputs": [
      {
       "output_type": "stream",
       "stream": "stderr",
       "text": [
        "/usr/lib/python2.7/dist-packages/IPython/core/interactiveshell.py:2827: DtypeWarning: Columns (1,2,3,4,5,6,7,8,9,10,11,12,13,14,15,16,17,18,19,22,23,24,28) have mixed types. Specify dtype option on import or set low_memory=False.\n",
        "  if self.run_code(code):\n"
       ]
      }
     ],
     "prompt_number": 7
    },
    {
     "cell_type": "code",
     "collapsed": false,
     "input": [
      "x = get_features(train)"
     ],
     "language": "python",
     "metadata": {},
     "outputs": [],
     "prompt_number": 8
    },
    {
     "cell_type": "code",
     "collapsed": false,
     "input": [
      "y = get_target(train)"
     ],
     "language": "python",
     "metadata": {},
     "outputs": [],
     "prompt_number": 9
    },
    {
     "cell_type": "code",
     "collapsed": false,
     "input": [
      "x_train, x_test, y_train, y_test = ttsplit(x,y)"
     ],
     "language": "python",
     "metadata": {},
     "outputs": [],
     "prompt_number": 10
    },
    {
     "cell_type": "code",
     "collapsed": false,
     "input": [
      "imputer = Imputer(copy=False, verbose=True)\n",
      "scaler = StandardScaler()"
     ],
     "language": "python",
     "metadata": {},
     "outputs": [],
     "prompt_number": 11
    },
    {
     "cell_type": "code",
     "collapsed": false,
     "input": [
      "param_grid = {\"n_estimators\": [200],\n",
      "    \"max_depth\": [25],\n",
      "    \"max_features\": [12]}\n",
      "\n",
      "rfr = RandomForestRegressor(random_state=0)\n",
      "\n",
      "grid = GridSearchCV(estimator=rfr, param_grid=param_grid, n_jobs=-1, cv=5)"
     ],
     "language": "python",
     "metadata": {},
     "outputs": [],
     "prompt_number": 12
    },
    {
     "cell_type": "code",
     "collapsed": false,
     "input": [
      "pipeline = make_pipeline(imputer, scaler,grid)"
     ],
     "language": "python",
     "metadata": {},
     "outputs": [],
     "prompt_number": 13
    },
    {
     "cell_type": "code",
     "collapsed": false,
     "input": [
      "model = pipeline.fit(x_train, y_train)"
     ],
     "language": "python",
     "metadata": {},
     "outputs": [
      {
       "output_type": "stream",
       "stream": "stderr",
       "text": [
        "/usr/local/lib/python2.7/dist-packages/sklearn/model_selection/_search.py:645: DataConversionWarning: A column-vector y was passed when a 1d array was expected. Please change the shape of y to (n_samples,), for example using ravel().\n",
        "  best_estimator.fit(X, y, **self.fit_params)\n",
        "/usr/local/lib/python2.7/dist-packages/sklearn/model_selection/_validation.py:238: DataConversionWarning: A column-vector y was passed when a 1d array was expected. Please change the shape of y to (n_samples,), for example using ravel().\n",
        "  estimator.fit(X_train, y_train, **fit_params)\n",
        "/usr/local/lib/python2.7/dist-packages/sklearn/model_selection/_validation.py:238: DataConversionWarning: A column-vector y was passed when a 1d array was expected. Please change the shape of y to (n_samples,), for example using ravel().\n",
        "  estimator.fit(X_train, y_train, **fit_params)\n",
        "/usr/local/lib/python2.7/dist-packages/sklearn/model_selection/_validation.py:238: DataConversionWarning: A column-vector y was passed when a 1d array was expected. Please change the shape of y to (n_samples,), for example using ravel().\n",
        "  estimator.fit(X_train, y_train, **fit_params)\n",
        "/usr/local/lib/python2.7/dist-packages/sklearn/model_selection/_validation.py:238: DataConversionWarning: A column-vector y was passed when a 1d array was expected. Please change the shape of y to (n_samples,), for example using ravel().\n",
        "  estimator.fit(X_train, y_train, **fit_params)\n"
       ]
      }
     ],
     "prompt_number": 14
    },
    {
     "cell_type": "code",
     "collapsed": false,
     "input": [
      "grid.best_score_"
     ],
     "language": "python",
     "metadata": {},
     "outputs": [
      {
       "metadata": {},
       "output_type": "pyout",
       "prompt_number": 15,
       "text": [
        "0.98743515668842186"
       ]
      }
     ],
     "prompt_number": 15
    },
    {
     "cell_type": "code",
     "collapsed": false,
     "input": [
      "grid.best_params_"
     ],
     "language": "python",
     "metadata": {},
     "outputs": [
      {
       "metadata": {},
       "output_type": "pyout",
       "prompt_number": 16,
       "text": [
        "{'max_depth': 25, 'max_features': 12, 'n_estimators': 200}"
       ]
      }
     ],
     "prompt_number": 16
    },
    {
     "cell_type": "code",
     "collapsed": false,
     "input": [
      "grid.best_estimator_"
     ],
     "language": "python",
     "metadata": {},
     "outputs": [
      {
       "metadata": {},
       "output_type": "pyout",
       "prompt_number": 17,
       "text": [
        "RandomForestRegressor(bootstrap=True, criterion='mse', max_depth=25,\n",
        "           max_features=12, max_leaf_nodes=None, min_impurity_split=1e-07,\n",
        "           min_samples_leaf=1, min_samples_split=2,\n",
        "           min_weight_fraction_leaf=0.0, n_estimators=200, n_jobs=1,\n",
        "           oob_score=False, random_state=0, verbose=0, warm_start=False)"
       ]
      }
     ],
     "prompt_number": 17
    },
    {
     "cell_type": "code",
     "collapsed": false,
     "input": [
      "predictions = model.predict(x_test)"
     ],
     "language": "python",
     "metadata": {},
     "outputs": [],
     "prompt_number": 18
    },
    {
     "cell_type": "code",
     "collapsed": false,
     "input": [
      "np.sqrt(mean_squared_error(predictions, y_test))"
     ],
     "language": "python",
     "metadata": {},
     "outputs": [
      {
       "metadata": {},
       "output_type": "pyout",
       "prompt_number": 19,
       "text": [
        "1.2562243778731947"
       ]
      }
     ],
     "prompt_number": 19
    },
    {
     "cell_type": "code",
     "collapsed": false,
     "input": [
      "mean_absolute_error(predictions, y_test)"
     ],
     "language": "python",
     "metadata": {},
     "outputs": [
      {
       "metadata": {},
       "output_type": "pyout",
       "prompt_number": 20,
       "text": [
        "0.30786361201176238"
       ]
      }
     ],
     "prompt_number": 20
    },
    {
     "cell_type": "code",
     "collapsed": false,
     "input": [
      "model.score(x_test, y_test)"
     ],
     "language": "python",
     "metadata": {},
     "outputs": [
      {
       "metadata": {},
       "output_type": "pyout",
       "prompt_number": 21,
       "text": [
        "0.98926575423940966"
       ]
      }
     ],
     "prompt_number": 21
    },
    {
     "cell_type": "code",
     "collapsed": false,
     "input": [
      "real_data = load_csv(TEST_CSV)"
     ],
     "language": "python",
     "metadata": {},
     "outputs": [
      {
       "output_type": "stream",
       "stream": "stderr",
       "text": [
        "/usr/lib/python2.7/dist-packages/IPython/core/interactiveshell.py:2827: DtypeWarning: Columns (1,2,3,4,5,6,7,8,9,10,11,12,13,14,15,16,17,18,21,22,23) have mixed types. Specify dtype option on import or set low_memory=False.\n",
        "  if self.run_code(code):\n"
       ]
      }
     ],
     "prompt_number": 22
    },
    {
     "cell_type": "code",
     "collapsed": false,
     "input": [
      "real_features = get_features(real_data)"
     ],
     "language": "python",
     "metadata": {},
     "outputs": [],
     "prompt_number": 23
    },
    {
     "cell_type": "code",
     "collapsed": false,
     "input": [
      "real_predictions = model.predict(real_features)"
     ],
     "language": "python",
     "metadata": {},
     "outputs": [],
     "prompt_number": 24
    },
    {
     "cell_type": "code",
     "collapsed": false,
     "input": [
      "np.savetxt('/home/frug/predictions_2_%s.csv' % RUN_NAME, real_predictions,\"%.4f\")"
     ],
     "language": "python",
     "metadata": {},
     "outputs": [],
     "prompt_number": 25
    },
    {
     "cell_type": "code",
     "collapsed": false,
     "input": [],
     "language": "python",
     "metadata": {},
     "outputs": []
    },
    {
     "cell_type": "code",
     "collapsed": false,
     "input": [],
     "language": "python",
     "metadata": {},
     "outputs": []
    },
    {
     "cell_type": "code",
     "collapsed": false,
     "input": [],
     "language": "python",
     "metadata": {},
     "outputs": []
    },
    {
     "cell_type": "code",
     "collapsed": false,
     "input": [],
     "language": "python",
     "metadata": {},
     "outputs": []
    },
    {
     "cell_type": "code",
     "collapsed": false,
     "input": [],
     "language": "python",
     "metadata": {},
     "outputs": []
    }
   ],
   "metadata": {}
  }
 ]
}