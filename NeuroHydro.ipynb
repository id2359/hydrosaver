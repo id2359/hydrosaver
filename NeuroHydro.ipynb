{
 "metadata": {
  "name": "",
  "signature": "sha256:4d068232cfb1fe0e24a24277bd39b23368007551c8935a38966b7ea330b0a243"
 },
 "nbformat": 3,
 "nbformat_minor": 0,
 "worksheets": [
  {
   "cells": [
    {
     "cell_type": "code",
     "collapsed": false,
     "input": [
      "import pandas as pd\n",
      "import numpy as np\n",
      "from sklearn.preprocessing.imputation import Imputer\n",
      "from sklearn.preprocessing import FunctionTransformer\n",
      "from sklearn.model_selection import train_test_split\n",
      "from sklearn.pipeline import make_pipeline\n",
      "from sklearn.preprocessing import StandardScaler\n",
      "from sklearn.metrics import mean_squared_error, mean_absolute_error\n",
      "from sklearn.feature_selection import VarianceThreshold\n",
      "from sklearn.neural_network import MLPRegressor\n",
      "\n",
      "def ttsplit(x,y):\n",
      "    # split into a training and testing set\n",
      "    x_train, x_test, y_train, y_test = train_test_split(x,\n",
      "                                                        y,\n",
      "                                                        test_size=0.25,\n",
      "                                                        random_state=42)\n",
      "    return x_train, x_test, y_train, y_test\n",
      "    \n",
      "\n",
      "imputer = Imputer(copy=False, verbose=True)\n",
      "scaler = StandardScaler()\n",
      "feature_selector = VarianceThreshold(threshold=(.8 * (1 - .8)))\n"
     ],
     "language": "python",
     "metadata": {},
     "outputs": []
    },
    {
     "cell_type": "code",
     "collapsed": false,
     "input": [
      "def to_float(df):\n",
      "    return df.apply(pd.to_numeric, errors='coerce')\n",
      "\n",
      "def fillna(df):\n",
      "    return df.fillna(df.mean())\n",
      "\n",
      "def load_csv(filename):\n",
      "    return fillna(to_float(pd.read_csv(filename, header=0)))"
     ],
     "language": "python",
     "metadata": {},
     "outputs": []
    },
    {
     "cell_type": "code",
     "collapsed": false,
     "input": [
      "TARGET_COLUMN = 'target'\n",
      "COLUMNS_TO_EXCLUDE = ['timestamp',\n",
      "                      'DIC88023.PV',\n",
      "                      'II88151.PV',\n",
      "                      'II88152.PV',\n",
      "                      'FV88156.PV',\n",
      "                      'FV88043.PV',\n",
      "                      'FV88044.PV']\n",
      "\n",
      "#COLUMNS_TO_INCLUDE = ['FX87211.CPV1',       \n",
      "#                      'MQI88024.CPV',  \n",
      "#                      'WQI8100XCL1.CPV']\n",
      "\n",
      "def get_features(df):\n",
      "    #return df[COLUMNS_TO_INCLUDE].copy()\n",
      "    return df[df.columns.difference([TARGET_COLUMN]+COLUMNS_TO_EXCLUDE)].copy()\n",
      "\n",
      "def get_target(df):\n",
      "    return df[[TARGET_COLUMN]]"
     ],
     "language": "python",
     "metadata": {},
     "outputs": []
    },
    {
     "cell_type": "code",
     "collapsed": false,
     "input": [
      "mlp = MLPRegressor(hidden_layer_sizes=(5,5,5), max_iter = 100, solver='lbfgs', \\\n",
      "                   alpha=0.01, activation = 'tanh', random_state = 8)"
     ],
     "language": "python",
     "metadata": {},
     "outputs": []
    },
    {
     "cell_type": "code",
     "collapsed": false,
     "input": [
      "TRAIN_CSV = '/home/frug/projects/hydrosaver/train.csv'"
     ],
     "language": "python",
     "metadata": {},
     "outputs": []
    },
    {
     "cell_type": "code",
     "collapsed": false,
     "input": [
      "TEST_CSV = '/home/frug/projects/hydrosaver/test.csv'"
     ],
     "language": "python",
     "metadata": {},
     "outputs": []
    },
    {
     "cell_type": "code",
     "collapsed": false,
     "input": [],
     "language": "python",
     "metadata": {},
     "outputs": []
    },
    {
     "cell_type": "code",
     "collapsed": false,
     "input": [
      "train = load_csv(TRAIN_CSV)\n"
     ],
     "language": "python",
     "metadata": {},
     "outputs": []
    },
    {
     "cell_type": "code",
     "collapsed": false,
     "input": [
      "x = get_features(train)"
     ],
     "language": "python",
     "metadata": {},
     "outputs": []
    },
    {
     "cell_type": "code",
     "collapsed": false,
     "input": [
      "y = get_target(train)"
     ],
     "language": "python",
     "metadata": {},
     "outputs": []
    },
    {
     "cell_type": "code",
     "collapsed": false,
     "input": [
      "x_train, x_test, y_train, y_test = ttsplit(x,y)"
     ],
     "language": "python",
     "metadata": {},
     "outputs": []
    },
    {
     "cell_type": "code",
     "collapsed": false,
     "input": [
      "pipeline = make_pipeline(feature_selector,imputer,scaler, mlp)"
     ],
     "language": "python",
     "metadata": {},
     "outputs": [],
     "prompt_number": 81
    },
    {
     "cell_type": "code",
     "collapsed": false,
     "input": [
      "model = pipeline.fit(x_train, y_train)"
     ],
     "language": "python",
     "metadata": {},
     "outputs": [],
     "prompt_number": 82
    },
    {
     "cell_type": "code",
     "collapsed": false,
     "input": [
      "predictions = model.predict(x_test)"
     ],
     "language": "python",
     "metadata": {},
     "outputs": [],
     "prompt_number": 83
    },
    {
     "cell_type": "code",
     "collapsed": false,
     "input": [
      "mean_squared_error(predictions, y_test)"
     ],
     "language": "python",
     "metadata": {},
     "outputs": [
      {
       "metadata": {},
       "output_type": "pyout",
       "prompt_number": 84,
       "text": [
        "66.509544031220045"
       ]
      }
     ],
     "prompt_number": 84
    },
    {
     "cell_type": "code",
     "collapsed": false,
     "input": [
      "mean_absolute_error(predictions, y_test)"
     ],
     "language": "python",
     "metadata": {},
     "outputs": [
      {
       "metadata": {},
       "output_type": "pyout",
       "prompt_number": 85,
       "text": [
        "3.0723163087641616"
       ]
      }
     ],
     "prompt_number": 85
    },
    {
     "cell_type": "code",
     "collapsed": false,
     "input": [
      "model.score(x_test, y_test)"
     ],
     "language": "python",
     "metadata": {},
     "outputs": [
      {
       "metadata": {},
       "output_type": "pyout",
       "prompt_number": 86,
       "text": [
        "0.54234695441272651"
       ]
      }
     ],
     "prompt_number": 86
    },
    {
     "cell_type": "code",
     "collapsed": false,
     "input": [
      "real_data = load_csv(TEST_CSV)"
     ],
     "language": "python",
     "metadata": {},
     "outputs": [
      {
       "output_type": "stream",
       "stream": "stderr",
       "text": [
        "/usr/lib/python2.7/dist-packages/IPython/core/interactiveshell.py:2827: DtypeWarning: Columns (1,2,3,4,5,6,7,8,9,10,11,12,13,14,15,16,17,18,21,22,23) have mixed types. Specify dtype option on import or set low_memory=False.\n",
        "  if self.run_code(code):\n"
       ]
      }
     ],
     "prompt_number": 89
    },
    {
     "cell_type": "code",
     "collapsed": false,
     "input": [
      "real_features = get_features(real_data)"
     ],
     "language": "python",
     "metadata": {},
     "outputs": [],
     "prompt_number": 90
    },
    {
     "cell_type": "code",
     "collapsed": false,
     "input": [
      "real_predictions = model.predict(real_features)"
     ],
     "language": "python",
     "metadata": {},
     "outputs": [],
     "prompt_number": 91
    },
    {
     "cell_type": "code",
     "collapsed": false,
     "input": [
      "np.savetxt('/home/frug/neural_network_predictions.csv', real_predictions,delimiter=',')"
     ],
     "language": "python",
     "metadata": {},
     "outputs": [],
     "prompt_number": 92
    },
    {
     "cell_type": "code",
     "collapsed": false,
     "input": [],
     "language": "python",
     "metadata": {},
     "outputs": []
    }
   ],
   "metadata": {}
  }
 ]
}