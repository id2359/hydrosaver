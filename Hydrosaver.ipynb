{
 "metadata": {
  "name": "",
  "signature": "sha256:ec0af5bd0018453306512cc595cc56b47807cff76663994ecc17dd891aaa768a"
 },
 "nbformat": 3,
 "nbformat_minor": 0,
 "worksheets": [
  {
   "cells": [
    {
     "cell_type": "code",
     "collapsed": false,
     "input": [
      "import pandas as pd\n",
      "import numpy as np\n",
      "from sklearn import linear_model\n",
      "from sklearn.feature_selection import SelectKBest\n",
      "from sklearn.feature_selection import chi2\n",
      "from sklearn.preprocessing.imputation import Imputer\n",
      "from sklearn.preprocessing import FunctionTransformer\n",
      "from sklearn.model_selection import train_test_split\n",
      "from sklearn.pipeline import make_pipeline\n",
      "from sklearn.preprocessing import StandardScaler\n",
      "from sklearn.metrics import mean_squared_error, mean_absolute_error\n",
      "\n",
      "def ttsplit(x,y):\n",
      "    # split into a training and testing set\n",
      "    x_train, x_test, y_train, y_test = train_test_split(x,\n",
      "                                                        y,\n",
      "                                                        test_size=0.25,\n",
      "                                                        random_state=42)\n",
      "    return x_train, x_test, y_train, y_test\n",
      "    \n",
      "\n",
      "imputer = Imputer(copy=False, verbose=True)\n",
      "scaler = StandardScaler()\n"
     ],
     "language": "python",
     "metadata": {},
     "outputs": [],
     "prompt_number": 18
    },
    {
     "cell_type": "code",
     "collapsed": false,
     "input": [
      "def to_float(df):\n",
      "    return df.apply(pd.to_numeric, errors='coerce')\n",
      "\n",
      "def fillna(df):\n",
      "    return df.fillna(df.mean())\n",
      "\n",
      "def load_csv(filename):\n",
      "    return fillna(to_float(pd.read_csv(filename, header=0)))"
     ],
     "language": "python",
     "metadata": {},
     "outputs": [],
     "prompt_number": 2
    },
    {
     "cell_type": "code",
     "collapsed": false,
     "input": [
      "TARGET_COLUMN = 'target'\n",
      "COLUMNS_TO_EXCLUDE = ['timestamp',\n",
      "                      'DIC88023.PV',\n",
      "                      'II88151.PV',\n",
      "                      'II88152.PV',\n",
      "                      'FV88156.PV',\n",
      "                      'FV88043.PV',\n",
      "                      'FV88044.PV']\n",
      "\n",
      "def get_features(df):\n",
      "    return df[df.columns.difference([TARGET_COLUMN]+COLUMNS_TO_EXCLUDE)].copy()\n",
      "\n",
      "def get_target(df):\n",
      "    return df[[TARGET_COLUMN]]"
     ],
     "language": "python",
     "metadata": {},
     "outputs": [],
     "prompt_number": 3
    },
    {
     "cell_type": "code",
     "collapsed": false,
     "input": [
      "lm = linear_model.LinearRegression()"
     ],
     "language": "python",
     "metadata": {},
     "outputs": [],
     "prompt_number": 4
    },
    {
     "cell_type": "code",
     "collapsed": false,
     "input": [
      "TRAIN_CSV = '/home/frug/projects/hydrosaver/train.csv'"
     ],
     "language": "python",
     "metadata": {},
     "outputs": [],
     "prompt_number": 5
    },
    {
     "cell_type": "code",
     "collapsed": false,
     "input": [
      "TEST_CSV = '/home/frug/projects/hydrosaver/test.csv'"
     ],
     "language": "python",
     "metadata": {},
     "outputs": [],
     "prompt_number": 6
    },
    {
     "cell_type": "code",
     "collapsed": false,
     "input": [
      "train = load_csv(TRAIN_CSV)\n"
     ],
     "language": "python",
     "metadata": {},
     "outputs": [
      {
       "output_type": "stream",
       "stream": "stderr",
       "text": [
        "/usr/lib/python2.7/dist-packages/IPython/core/interactiveshell.py:2827: DtypeWarning: Columns (1,2,3,4,5,6,7,8,9,10,11,12,13,14,15,16,17,18,19,22,23,24,28) have mixed types. Specify dtype option on import or set low_memory=False.\n",
        "  if self.run_code(code):\n"
       ]
      }
     ],
     "prompt_number": 7
    },
    {
     "cell_type": "code",
     "collapsed": false,
     "input": [
      "x = get_features(train)"
     ],
     "language": "python",
     "metadata": {},
     "outputs": [],
     "prompt_number": 8
    },
    {
     "cell_type": "code",
     "collapsed": false,
     "input": [
      "y = get_target(train)"
     ],
     "language": "python",
     "metadata": {},
     "outputs": [],
     "prompt_number": 9
    },
    {
     "cell_type": "code",
     "collapsed": false,
     "input": [
      "x_train, x_test, y_train, y_test = ttsplit(x,y)"
     ],
     "language": "python",
     "metadata": {},
     "outputs": [],
     "prompt_number": 10
    },
    {
     "cell_type": "code",
     "collapsed": false,
     "input": [
      "pipeline = make_pipeline(imputer,scaler, lm)"
     ],
     "language": "python",
     "metadata": {},
     "outputs": [],
     "prompt_number": 30
    },
    {
     "cell_type": "code",
     "collapsed": false,
     "input": [
      "model = pipeline.fit(x_train, y_train)"
     ],
     "language": "python",
     "metadata": {},
     "outputs": [],
     "prompt_number": 31
    },
    {
     "cell_type": "code",
     "collapsed": false,
     "input": [
      "predictions_test = model.predict(x_test)"
     ],
     "language": "python",
     "metadata": {},
     "outputs": [],
     "prompt_number": 32
    },
    {
     "cell_type": "code",
     "collapsed": false,
     "input": [
      "predictions_test"
     ],
     "language": "python",
     "metadata": {},
     "outputs": [
      {
       "metadata": {},
       "output_type": "pyout",
       "prompt_number": 33,
       "text": [
        "array([[ 52.21926244],\n",
        "       [ 53.37007331],\n",
        "       [ 58.26566711],\n",
        "       ..., \n",
        "       [ 58.51372614],\n",
        "       [ 55.50392028],\n",
        "       [ 59.38679961]])"
       ]
      }
     ],
     "prompt_number": 33
    },
    {
     "cell_type": "code",
     "collapsed": false,
     "input": [
      "mean_squared_error(predictions_test, y_test)"
     ],
     "language": "python",
     "metadata": {},
     "outputs": [
      {
       "metadata": {},
       "output_type": "pyout",
       "prompt_number": 29,
       "text": [
        "90.919048916518761"
       ]
      }
     ],
     "prompt_number": 29
    },
    {
     "cell_type": "code",
     "collapsed": false,
     "input": [],
     "language": "python",
     "metadata": {},
     "outputs": []
    },
    {
     "cell_type": "code",
     "collapsed": false,
     "input": [
      "mean_absolute_error(predictions_test, y_test)"
     ],
     "language": "python",
     "metadata": {},
     "outputs": [
      {
       "metadata": {},
       "output_type": "pyout",
       "prompt_number": 28,
       "text": [
        "4.4462363219484748"
       ]
      }
     ],
     "prompt_number": 28
    }
   ],
   "metadata": {}
  }
 ]
}